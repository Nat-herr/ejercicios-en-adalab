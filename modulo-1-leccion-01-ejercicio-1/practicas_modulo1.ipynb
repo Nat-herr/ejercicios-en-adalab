{
 "cells": [
  {
   "cell_type": "code",
   "execution_count": 1,
   "id": "caaa441b",
   "metadata": {},
   "outputs": [
    {
     "data": {
      "text/plain": [
       "6"
      ]
     },
     "execution_count": 1,
     "metadata": {},
     "output_type": "execute_result"
    }
   ],
   "source": [
    "3 + 3"
   ]
  },
  {
   "cell_type": "markdown",
   "id": "441220a3",
   "metadata": {},
   "source": [
    "### estoy escribiendo con numeral es el tamaño de la tipografia"
   ]
  },
  {
   "cell_type": "markdown",
   "id": "e502a263",
   "metadata": {},
   "source": [
    "- guion para hacer esquemas:\n",
    "  - en la segunda haces espacio y guion"
   ]
  },
  {
   "cell_type": "code",
   "execution_count": 2,
   "id": "d09ec4f8",
   "metadata": {},
   "outputs": [],
   "source": [
    "a = 45"
   ]
  },
  {
   "cell_type": "markdown",
   "id": "cde6b8ed",
   "metadata": {},
   "source": [
    "tipo de variables:\n",
    " - texto > string\n",
    " - numeros\n",
    "   - enteros > int\n",
    "   - decimales > float\n",
    "- bool > verdadedo y falso    "
   ]
  },
  {
   "cell_type": "markdown",
   "id": "7fd3c8e2",
   "metadata": {},
   "source": []
  },
  {
   "cell_type": "code",
   "execution_count": 4,
   "id": "44d5c1cd",
   "metadata": {},
   "outputs": [],
   "source": [
    "name = \"natalia\""
   ]
  },
  {
   "cell_type": "code",
   "execution_count": 14,
   "id": "b944c380",
   "metadata": {},
   "outputs": [
    {
     "name": "stdout",
     "output_type": "stream",
     "text": [
      "natalia\n"
     ]
    }
   ],
   "source": [
    "print(name)\n",
    "# print lo que hace es que tu une todos los resultados de nombre en una sola variable"
   ]
  },
  {
   "cell_type": "markdown",
   "id": "ef7fb563",
   "metadata": {},
   "source": [
    "### operador de asignacion es el signo \"igual\" se la asignamos a un valor de una variable"
   ]
  },
  {
   "cell_type": "markdown",
   "id": "497abc02",
   "metadata": {},
   "source": []
  },
  {
   "cell_type": "code",
   "execution_count": 6,
   "id": "ef4822c9",
   "metadata": {},
   "outputs": [],
   "source": [
    "edad = 45"
   ]
  },
  {
   "cell_type": "code",
   "execution_count": 7,
   "id": "ab8a5abe",
   "metadata": {},
   "outputs": [
    {
     "data": {
      "text/plain": [
       "int"
      ]
     },
     "execution_count": 7,
     "metadata": {},
     "output_type": "execute_result"
    }
   ],
   "source": [
    "type(edad)"
   ]
  },
  {
   "cell_type": "markdown",
   "id": "e67490ff",
   "metadata": {},
   "source": [
    "eso es el tipo de variables, poner type y la variable entre parentesis"
   ]
  },
  {
   "cell_type": "code",
   "execution_count": 8,
   "id": "60665ee0",
   "metadata": {},
   "outputs": [
    {
     "ename": "AttributeError",
     "evalue": "'int' object has no attribute 'upper'",
     "output_type": "error",
     "traceback": [
      "\u001b[0;31m---------------------------------------------------------------------------\u001b[0m",
      "\u001b[0;31mAttributeError\u001b[0m                            Traceback (most recent call last)",
      "Cell \u001b[0;32mIn[8], line 1\u001b[0m\n\u001b[0;32m----> 1\u001b[0m edad\u001b[38;5;241m.\u001b[39mupper\n",
      "\u001b[0;31mAttributeError\u001b[0m: 'int' object has no attribute 'upper'"
     ]
    }
   ],
   "source": [
    "edad.upper"
   ]
  },
  {
   "cell_type": "code",
   "execution_count": 10,
   "id": "fdda2c00",
   "metadata": {},
   "outputs": [],
   "source": [
    "# numero decimal\n",
    "altura = 1,65\n",
    "# si pongo una coma lo toma como dos numeros enteros"
   ]
  },
  {
   "cell_type": "code",
   "execution_count": 11,
   "id": "76396c51",
   "metadata": {},
   "outputs": [],
   "source": [
    "altura = 1.70"
   ]
  },
  {
   "cell_type": "code",
   "execution_count": 12,
   "id": "40face58",
   "metadata": {},
   "outputs": [
    {
     "data": {
      "text/plain": [
       "float"
      ]
     },
     "execution_count": 12,
     "metadata": {},
     "output_type": "execute_result"
    }
   ],
   "source": [
    "type(altura)"
   ]
  },
  {
   "cell_type": "code",
   "execution_count": 13,
   "id": "ce243aee",
   "metadata": {},
   "outputs": [
    {
     "name": "stdout",
     "output_type": "stream",
     "text": [
      "1.7\n"
     ]
    }
   ],
   "source": [
    "print(altura)"
   ]
  },
  {
   "cell_type": "code",
   "execution_count": 15,
   "id": "062a8af6",
   "metadata": {},
   "outputs": [],
   "source": [
    "# print es quue es la variable\n",
    "# type es que tipo de variable es"
   ]
  },
  {
   "cell_type": "code",
   "execution_count": 19,
   "id": "aaf40682",
   "metadata": {},
   "outputs": [],
   "source": [
    "altura_2 = \"1.70\"\n",
    "# si tiene comillas es un string"
   ]
  },
  {
   "cell_type": "code",
   "execution_count": 17,
   "id": "3d9b4bef",
   "metadata": {},
   "outputs": [
    {
     "data": {
      "text/plain": [
       "str"
      ]
     },
     "execution_count": 17,
     "metadata": {},
     "output_type": "execute_result"
    }
   ],
   "source": [
    "type(altura)"
   ]
  },
  {
   "cell_type": "code",
   "execution_count": 20,
   "id": "8dd9a6ee",
   "metadata": {},
   "outputs": [
    {
     "data": {
      "text/plain": [
       "True"
      ]
     },
     "execution_count": 20,
     "metadata": {},
     "output_type": "execute_result"
    }
   ],
   "source": [
    "altura == altura_2"
   ]
  },
  {
   "cell_type": "markdown",
   "id": "6d0c64fd",
   "metadata": {},
   "source": [
    "se pueden comparar con doble igual\n",
    "se puedo comparar mayor, menor, etc"
   ]
  },
  {
   "cell_type": "code",
   "execution_count": 22,
   "id": "9eed4399",
   "metadata": {},
   "outputs": [],
   "source": [
    "# operadores algebraicos\n",
    "v1 = 5\n",
    "v2 = 6"
   ]
  },
  {
   "cell_type": "code",
   "execution_count": 23,
   "id": "720f840e",
   "metadata": {},
   "outputs": [
    {
     "data": {
      "text/plain": [
       "11"
      ]
     },
     "execution_count": 23,
     "metadata": {},
     "output_type": "execute_result"
    }
   ],
   "source": [
    "v1+v2"
   ]
  },
  {
   "cell_type": "markdown",
   "id": "86103ed6",
   "metadata": {},
   "source": [
    "# operadores aritmeticos"
   ]
  },
  {
   "cell_type": "code",
   "execution_count": 1,
   "id": "9e6139c6",
   "metadata": {},
   "outputs": [
    {
     "data": {
      "text/plain": [
       "2.5"
      ]
     },
     "execution_count": 1,
     "metadata": {},
     "output_type": "execute_result"
    }
   ],
   "source": [
    "5/2"
   ]
  },
  {
   "cell_type": "code",
   "execution_count": 2,
   "id": "365eccd3",
   "metadata": {},
   "outputs": [
    {
     "data": {
      "text/plain": [
       "2"
      ]
     },
     "execution_count": 2,
     "metadata": {},
     "output_type": "execute_result"
    }
   ],
   "source": [
    "# division de enteros\n",
    "5//2"
   ]
  },
  {
   "cell_type": "code",
   "execution_count": 3,
   "id": "74126055",
   "metadata": {},
   "outputs": [
    {
     "data": {
      "text/plain": [
       "1"
      ]
     },
     "execution_count": 3,
     "metadata": {},
     "output_type": "execute_result"
    }
   ],
   "source": [
    "# acceder al residuo de una division\n",
    "5 % 2"
   ]
  },
  {
   "cell_type": "code",
   "execution_count": 4,
   "id": "86efeb57",
   "metadata": {},
   "outputs": [
    {
     "data": {
      "text/plain": [
       "(2, 1)"
      ]
     },
     "execution_count": 4,
     "metadata": {},
     "output_type": "execute_result"
    }
   ],
   "source": [
    "divmod(5,2)\n",
    "# te da el entero y el residuo"
   ]
  },
  {
   "cell_type": "code",
   "execution_count": 7,
   "id": "e2acdde4",
   "metadata": {},
   "outputs": [
    {
     "data": {
      "text/plain": [
       "42"
      ]
     },
     "execution_count": 7,
     "metadata": {},
     "output_type": "execute_result"
    }
   ],
   "source": [
    "# si tienes 127 cajas y las repartes en 3\n",
    "# cuantas cajas le tocan a cada uno\n",
    "\n",
    "127//3"
   ]
  },
  {
   "cell_type": "code",
   "execution_count": 8,
   "id": "67037b0d",
   "metadata": {},
   "outputs": [
    {
     "name": "stdout",
     "output_type": "stream",
     "text": [
      "The Zen of Python, by Tim Peters\n",
      "\n",
      "Beautiful is better than ugly.\n",
      "Explicit is better than implicit.\n",
      "Simple is better than complex.\n",
      "Complex is better than complicated.\n",
      "Flat is better than nested.\n",
      "Sparse is better than dense.\n",
      "Readability counts.\n",
      "Special cases aren't special enough to break the rules.\n",
      "Although practicality beats purity.\n",
      "Errors should never pass silently.\n",
      "Unless explicitly silenced.\n",
      "In the face of ambiguity, refuse the temptation to guess.\n",
      "There should be one-- and preferably only one --obvious way to do it.\n",
      "Although that way may not be obvious at first unless you're Dutch.\n",
      "Now is better than never.\n",
      "Although never is often better than *right* now.\n",
      "If the implementation is hard to explain, it's a bad idea.\n",
      "If the implementation is easy to explain, it may be a good idea.\n",
      "Namespaces are one honking great idea -- let's do more of those!\n"
     ]
    }
   ],
   "source": [
    "import this"
   ]
  },
  {
   "cell_type": "code",
   "execution_count": 9,
   "id": "f96664dc",
   "metadata": {},
   "outputs": [
    {
     "data": {
      "text/plain": [
       "1"
      ]
     },
     "execution_count": 9,
     "metadata": {},
     "output_type": "execute_result"
    }
   ],
   "source": [
    "#convertir numero decimal a entero\n",
    "int(1.70)"
   ]
  },
  {
   "cell_type": "code",
   "execution_count": 10,
   "id": "bc8c7e98",
   "metadata": {},
   "outputs": [
    {
     "data": {
      "text/plain": [
       "1.0"
      ]
     },
     "execution_count": 10,
     "metadata": {},
     "output_type": "execute_result"
    }
   ],
   "source": [
    "#un numero entero a decimal\n",
    "float (1)"
   ]
  },
  {
   "cell_type": "code",
   "execution_count": 11,
   "id": "07f29c5d",
   "metadata": {},
   "outputs": [
    {
     "ename": "ValueError",
     "evalue": "invalid literal for int() with base 10: 'cuatro'",
     "output_type": "error",
     "traceback": [
      "\u001b[0;31m---------------------------------------------------------------------------\u001b[0m",
      "\u001b[0;31mValueError\u001b[0m                                Traceback (most recent call last)",
      "Cell \u001b[0;32mIn[11], line 1\u001b[0m\n\u001b[0;32m----> 1\u001b[0m \u001b[38;5;28mint\u001b[39m(\u001b[38;5;124m\"\u001b[39m\u001b[38;5;124mcuatro\u001b[39m\u001b[38;5;124m\"\u001b[39m)\n",
      "\u001b[0;31mValueError\u001b[0m: invalid literal for int() with base 10: 'cuatro'"
     ]
    }
   ],
   "source": [
    "int(\"cuatro\")"
   ]
  },
  {
   "cell_type": "code",
   "execution_count": 13,
   "id": "0d3da619",
   "metadata": {},
   "outputs": [
    {
     "ename": "TypeError",
     "evalue": "must be str or None, not int",
     "output_type": "error",
     "traceback": [
      "\u001b[0;31m---------------------------------------------------------------------------\u001b[0m",
      "\u001b[0;31mTypeError\u001b[0m                                 Traceback (most recent call last)",
      "Cell \u001b[0;32mIn[13], line 1\u001b[0m\n\u001b[0;32m----> 1\u001b[0m \u001b[38;5;124m\"\u001b[39m\u001b[38;5;124mhola\u001b[39m\u001b[38;5;124m\"\u001b[39m\u001b[38;5;241m.\u001b[39msplit(\u001b[38;5;241m2\u001b[39m)\n",
      "\u001b[0;31mTypeError\u001b[0m: must be str or None, not int"
     ]
    }
   ],
   "source": [
    "\"hola\".split(2)"
   ]
  },
  {
   "cell_type": "code",
   "execution_count": 17,
   "id": "7c2a94e5",
   "metadata": {},
   "outputs": [],
   "source": [
    "saludo = \"hola\""
   ]
  },
  {
   "cell_type": "code",
   "execution_count": 18,
   "id": "e422f60f",
   "metadata": {},
   "outputs": [
    {
     "name": "stdout",
     "output_type": "stream",
     "text": [
      "hola\n"
     ]
    }
   ],
   "source": [
    "print(saludo)"
   ]
  },
  {
   "cell_type": "code",
   "execution_count": null,
   "id": "9c405023",
   "metadata": {},
   "outputs": [
    {
     "data": {
      "text/plain": [
       "'HOLA'"
      ]
     },
     "execution_count": 20,
     "metadata": {},
     "output_type": "execute_result"
    }
   ],
   "source": [
    "saludo.upper()"
   ]
  },
  {
   "cell_type": "code",
   "execution_count": 24,
   "id": "58f13cd0",
   "metadata": {},
   "outputs": [
    {
     "name": "stdout",
     "output_type": "stream",
     "text": [
      "HOLA\n"
     ]
    }
   ],
   "source": [
    "print(saludo.upper())\n",
    "#aqui solo me lo esta mostrando, no o esta almacenando"
   ]
  },
  {
   "cell_type": "code",
   "execution_count": 28,
   "id": "7fca8b19",
   "metadata": {},
   "outputs": [],
   "source": [
    "saludo_may = saludo.upper()\n",
    "#asi lo almaceno"
   ]
  },
  {
   "cell_type": "code",
   "execution_count": 27,
   "id": "6cdff55b",
   "metadata": {},
   "outputs": [
    {
     "name": "stdout",
     "output_type": "stream",
     "text": [
      "HOLA\n"
     ]
    }
   ],
   "source": [
    "print(saludo_may)"
   ]
  },
  {
   "cell_type": "code",
   "execution_count": 31,
   "id": "71d47e55",
   "metadata": {},
   "outputs": [],
   "source": [
    "#tambien podemos darle un nuevo valor a la variable saludo\n",
    "#eso se llama machacar la variable\n",
    "saludo = saludo.upper()"
   ]
  },
  {
   "cell_type": "code",
   "execution_count": 30,
   "id": "cc354cd8",
   "metadata": {},
   "outputs": [
    {
     "name": "stdout",
     "output_type": "stream",
     "text": [
      "HOLA\n"
     ]
    }
   ],
   "source": [
    "print(saludo)"
   ]
  },
  {
   "cell_type": "code",
   "execution_count": 32,
   "id": "a261956b",
   "metadata": {},
   "outputs": [],
   "source": [
    "nombre = \"Natalia\" \n",
    "apellido = \"herrera\""
   ]
  },
  {
   "cell_type": "code",
   "execution_count": 35,
   "id": "dd23fe8a",
   "metadata": {},
   "outputs": [],
   "source": [
    "nombre = \"german\"\n",
    "apellido = \"billoch\" "
   ]
  },
  {
   "cell_type": "code",
   "execution_count": 36,
   "id": "ed2bab8c",
   "metadata": {},
   "outputs": [
    {
     "name": "stdout",
     "output_type": "stream",
     "text": [
      "bienvenida german billoch\n"
     ]
    }
   ],
   "source": [
    "print( \"bienvenida\", nombre,apellido)"
   ]
  },
  {
   "cell_type": "code",
   "execution_count": 37,
   "id": "b5a24eae",
   "metadata": {},
   "outputs": [
    {
     "name": "stdout",
     "output_type": "stream",
     "text": [
      "german\n"
     ]
    }
   ],
   "source": [
    "print(nombre)"
   ]
  },
  {
   "cell_type": "code",
   "execution_count": 40,
   "id": "41a4081d",
   "metadata": {},
   "outputs": [],
   "source": [
    "nombre = input(\"dime tu nombre\")"
   ]
  },
  {
   "cell_type": "code",
   "execution_count": null,
   "id": "141519d7",
   "metadata": {},
   "outputs": [],
   "source": []
  }
 ],
 "metadata": {
  "kernelspec": {
   "display_name": "base",
   "language": "python",
   "name": "python3"
  },
  "language_info": {
   "codemirror_mode": {
    "name": "ipython",
    "version": 3
   },
   "file_extension": ".py",
   "mimetype": "text/x-python",
   "name": "python",
   "nbconvert_exporter": "python",
   "pygments_lexer": "ipython3",
   "version": "3.13.5"
  }
 },
 "nbformat": 4,
 "nbformat_minor": 5
}
